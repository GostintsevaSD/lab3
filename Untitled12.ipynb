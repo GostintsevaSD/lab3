{
  "nbformat": 4,
  "nbformat_minor": 0,
  "metadata": {
    "colab": {
      "provenance": [],
      "authorship_tag": "ABX9TyNTPMlyWFCE2mx9eIQv1Qgc",
      "include_colab_link": true
    },
    "kernelspec": {
      "name": "python3",
      "display_name": "Python 3"
    },
    "language_info": {
      "name": "python"
    }
  },
  "cells": [
    {
      "cell_type": "markdown",
      "metadata": {
        "id": "view-in-github",
        "colab_type": "text"
      },
      "source": [
        "<a href=\"https://colab.research.google.com/github/GostintsevaSD/lab3/blob/main/Untitled12.ipynb\" target=\"_parent\"><img src=\"https://colab.research.google.com/assets/colab-badge.svg\" alt=\"Open In Colab\"/></a>"
      ]
    },
    {
      "cell_type": "code",
      "source": [
        "# Задание task_03_01_01.\n",
        "#\n",
        "# Выполнил: Гостинцева С.Д.\n",
        "# Группа: ЦИБ-241\n",
        "\n",
        "def sgn(x):\n",
        "    if x > 0:\n",
        "      sgn = 1\n",
        "    elif x == 0:\n",
        "      sgn = 0\n",
        "    elif x < 0:\n",
        "      sgn = -1\n",
        "    return sgn\n",
        "x =  float(input())\n",
        "y = float(input())\n",
        "\n",
        "z = (sgn(x) + y**2)/(sgn(y)-(x**2)**(1/4))\n",
        "\n",
        "print(\"Ответ:\", round(z, 2))"
      ],
      "metadata": {
        "colab": {
          "base_uri": "https://localhost:8080/"
        },
        "id": "rQkpIldG7qOB",
        "outputId": "8ad3be1d-f476-41fb-a7df-8b95be94e2d7"
      },
      "execution_count": null,
      "outputs": [
        {
          "output_type": "stream",
          "name": "stdout",
          "text": [
            "-9\n",
            "0\n",
            "Ответ: 0.33\n"
          ]
        }
      ]
    },
    {
      "cell_type": "code",
      "source": [
        "# Задание task_03_01_02.\n",
        "#\n",
        "# Выполнил: Гостинцева С.Д.\n",
        "# Группа: ЦИБ-241\n",
        "\n",
        "def avg(data):\n",
        "\n",
        "    cleaned = [x for x in data if x is not None]\n",
        "    return sum(cleaned) / len(cleaned) if cleaned else 0.0\n",
        "\n",
        "\n",
        "def cleared_data(data):\n",
        "\n",
        "    return [x for x in data if x is not None]\n",
        "\n",
        "\n",
        "def main():\n",
        "\n",
        "    n = int(input(\"Кол-во измерений: \"))\n",
        "    data = []\n",
        "    for i in range(n):\n",
        "        value = input(f\"Измерение {i+1}-е: \")\n",
        "        data.append(int(value) if value != '-' else None)\n",
        "\n",
        "\n",
        "    valid_data = cleared_data(data)\n",
        "    average = avg(valid_data)\n",
        "\n",
        "\n",
        "    print(f\"Средняя температура: {average:.2f}\")\n",
        "\n",
        "\n",
        "if __name__ == \"__main__\":\n",
        "    main()"
      ],
      "metadata": {
        "colab": {
          "base_uri": "https://localhost:8080/"
        },
        "id": "vryny4FYolUM",
        "outputId": "5b227ccb-5c5e-4ab7-add4-1a34751646f7"
      },
      "execution_count": null,
      "outputs": [
        {
          "output_type": "stream",
          "name": "stdout",
          "text": [
            "Кол-во измерений: 3\n",
            "Измерение 1-е: 10\n",
            "Измерение 2-е: -\n",
            "Измерение 3-е: 20\n",
            "Средняя температура: 15.00\n"
          ]
        }
      ]
    },
    {
      "cell_type": "code",
      "source": [
        "# Задание task_03_01_03.\n",
        "#\n",
        "# Выполнил: Гостинцева С.Д.\n",
        "# Группа: ЦИБ-241\n",
        "\n",
        "def is_lucky(num):\n",
        "  chet = 0\n",
        "  nech = 0\n",
        "  for i in str(num):\n",
        "    if int(i) % 2 == 0:\n",
        "      chet +=1\n",
        "    else:\n",
        "      nech +=1\n",
        "  return chet == nech\n",
        "\n",
        "def lucky_numbers(a, b):\n",
        "  luck = []\n",
        "  for i in range (a, b+1):\n",
        "    if is_lucky(i):\n",
        "      luck.append(i)\n",
        "  return luck\n",
        "\n",
        "a = int(input())\n",
        "b = int(input())\n",
        "\n",
        "ans = lucky_numbers(a, b)\n",
        "\n",
        "print(ans)"
      ],
      "metadata": {
        "colab": {
          "base_uri": "https://localhost:8080/"
        },
        "id": "nBe01qCB79mk",
        "outputId": "c4f5c2ae-4c79-4f2e-dca6-d9a9a161f69d"
      },
      "execution_count": null,
      "outputs": [
        {
          "output_type": "stream",
          "name": "stdout",
          "text": [
            "10\n",
            "25\n",
            "[10, 12, 14, 16, 18, 21, 23, 25]\n"
          ]
        }
      ]
    },
    {
      "cell_type": "code",
      "source": [
        "# Задание task_03_01_04.\n",
        "#\n",
        "# Выполнил: Гостинцева С.Д.\n",
        "# Группа: ЦИБ-241\n",
        "\n",
        "def is_leap(year):\n",
        "\n",
        "    return year % 4 == 0 and (year % 100 != 0 or year % 400 == 0)\n",
        "\n",
        "\n",
        "def days(month, year):\n",
        "\n",
        "    if month == 2:\n",
        "        return 29 if is_leap(year) else 28\n",
        "    return [31,28,31,30,31,30,31,31,30,31,30,31][month-1]\n",
        "\n",
        "\n",
        "def previous_date(day, month, year):\n",
        "\n",
        "    if day > 1:\n",
        "        return (day-1, month, year)\n",
        "\n",
        "    if month == 1:\n",
        "        return (31, 12, year-1)\n",
        "\n",
        "    prev_month = month - 1\n",
        "    return (days(prev_month, year), prev_month, year)\n",
        "\n",
        "\n",
        "def next_date(day, month, year):\n",
        "\n",
        "    max_days = days(month, year)\n",
        "\n",
        "    if day < max_days:\n",
        "        return (day+1, month, year)\n",
        "\n",
        "    if month == 12:\n",
        "        return (1, 1, year+1)\n",
        "\n",
        "    return (1, month+1, year)\n",
        "\n",
        "\n",
        "def main():\n",
        "\n",
        "    date = input(\"День, месяц, год через пробел: \").split()\n",
        "    day, month, year = map(int, date)\n",
        "\n",
        "    prev = previous_date(day, month, year)\n",
        "    next_day = next_date(day, month, year)\n",
        "\n",
        "    print(f\"Предыдущий день: {prev[0]:02d}/{prev[1]:02d}/{prev[2]}\")\n",
        "    print(f\"Следующий день: {next_day[0]:02d}/{next_day[1]:02d}/{next_day[2]}\")\n",
        "\n",
        "\n",
        "if __name__ == \"__main__\":\n",
        "    main()"
      ],
      "metadata": {
        "colab": {
          "base_uri": "https://localhost:8080/"
        },
        "id": "LDw69P1EpOOK",
        "outputId": "4efedde8-7c46-4d1f-9aec-bab23f89532d"
      },
      "execution_count": null,
      "outputs": [
        {
          "output_type": "stream",
          "name": "stdout",
          "text": [
            "День, месяц, год через пробел: 1 3 2000\n",
            "Предыдущий день: 29/02/2000\n",
            "Следующий день: 02/03/2000\n"
          ]
        }
      ]
    },
    {
      "cell_type": "code",
      "source": [
        "# Задание task_03_01_05.\n",
        "#\n",
        "# Выполнил: Гостинцева С.Д.\n",
        "# Группа: ЦИБ-241\n",
        "\n",
        "def is_leap(year):\n",
        "\n",
        "    return year % 4 == 0 and (year % 100 != 0 or year % 400 == 0)\n",
        "\n",
        "\n",
        "def days(month, year):\n",
        "\n",
        "    if month == 2:\n",
        "        return 29 if is_leap(year) else 28\n",
        "    return [31,28,31,30,31,30,31,31,30,31,30,31][month-1]\n",
        "\n",
        "\n",
        "def another_date(day, month, year, delta=1):\n",
        "\n",
        "\n",
        "    def previous_date(d, m, y):\n",
        "\n",
        "        if d > 1:\n",
        "            return (d-1, m, y)\n",
        "        if m == 1:\n",
        "            return (31, 12, y-1)\n",
        "        prev_month = m - 1\n",
        "        return (days(prev_month, y), prev_month, y)\n",
        "\n",
        "    def next_date(d, m, y):\n",
        "\n",
        "        max_d = days(m, y)\n",
        "        if d < max_d:\n",
        "            return (d+1, m, y)\n",
        "        if m == 12:\n",
        "            return (1, 1, y+1)\n",
        "        return (1, m+1, y)\n",
        "\n",
        "    current_date = (day, month, year)\n",
        "    step = 1 if delta > 0 else -1\n",
        "    iterations = abs(delta)\n",
        "\n",
        "    for _ in range(iterations):\n",
        "        if delta > 0:\n",
        "            current_date = next_date(*current_date)\n",
        "        else:\n",
        "            current_date = previous_date(*current_date)\n",
        "\n",
        "    return current_date\n",
        "\n",
        "\n",
        "def main():\n",
        "\n",
        "    date_input = input(\"День, месяц, год через пробел: \").split()\n",
        "    day, month, year = map(int, date_input)\n",
        "    delta = int(input(\"Сдвиг (может быть отрицательным): \"))\n",
        "\n",
        "    new_date = another_date(day, month, year, delta)\n",
        "    print(f\"Новый день: {new_date[0]:02d}/{new_date[1]:02d}/{new_date[2]}\")\n",
        "\n",
        "\n",
        "if __name__ == \"__main__\":\n",
        "    main()"
      ],
      "metadata": {
        "colab": {
          "base_uri": "https://localhost:8080/"
        },
        "id": "36FtxOoX0Abp",
        "outputId": "70c4ee6b-53e7-4907-9e66-bbe7d4b9cc3b"
      },
      "execution_count": null,
      "outputs": [
        {
          "output_type": "stream",
          "name": "stdout",
          "text": [
            "День, месяц, год через пробел: 1 1 2000\n",
            "Сдвиг (может быть отрицательным): -2\n",
            "Новый день: 30/12/1999\n"
          ]
        }
      ]
    },
    {
      "cell_type": "code",
      "source": [
        "# Задание task_03_01_06.\n",
        "#\n",
        "# Выполнил: Гостинцева С.Д.\n",
        "# Группа: ЦИБ-241\n",
        "\n",
        "def gcd(first, second):\n",
        "\n",
        "    while second != 0:\n",
        "        first, second = second, first % second\n",
        "    return abs(first)\n",
        "\n",
        "\n",
        "def lcm(first, second):\n",
        "\n",
        "    if first == 0 or second == 0:\n",
        "        return 0\n",
        "    return abs(first * second) // gcd(first, second)\n",
        "\n",
        "\n",
        "def gcd_nums(nums):\n",
        "\n",
        "    if not nums:\n",
        "        return 0\n",
        "    current_gcd = nums[0]\n",
        "    for num in nums[1:]:\n",
        "        current_gcd = gcd(current_gcd, num)\n",
        "    return current_gcd\n",
        "\n",
        "\n",
        "def lcm_nums(nums):\n",
        "\n",
        "    if not nums:\n",
        "        return 0\n",
        "    current_lcm = nums[0]\n",
        "    for num in nums[1:]:\n",
        "        current_lcm = lcm(current_lcm, num)\n",
        "    return current_lcm\n",
        "\n",
        "\n",
        "def main():\n",
        "\n",
        "    nums = list(map(int, input(\"Введите числа через пробел: \").split()))\n",
        "\n",
        "    gcd_result = gcd_nums(nums)\n",
        "    lcm_result = lcm_nums(nums)\n",
        "\n",
        "    print(f\"НОД = {gcd_result}\")\n",
        "    print(f\"НОК = {lcm_result}\")\n",
        "\n",
        "\n",
        "if __name__ == \"__main__\":\n",
        "    main()"
      ],
      "metadata": {
        "colab": {
          "base_uri": "https://localhost:8080/"
        },
        "id": "q4CRGnlbqx-K",
        "outputId": "07b03cc6-d5af-4acf-a912-6260528f83d8"
      },
      "execution_count": null,
      "outputs": [
        {
          "output_type": "stream",
          "name": "stdout",
          "text": [
            "Введите числа через пробел: 6 8 24 16\n",
            "НОД = 2\n",
            "НОК = 48\n"
          ]
        }
      ]
    },
    {
      "cell_type": "code",
      "source": [
        "# Задание task_03_01_07.\n",
        "#\n",
        "# Выполнил: Гостинцева С.Д.\n",
        "# Группа: ЦИБ-241\n",
        "\n",
        "def has_digits(sentence):\n",
        "  for i in sentence:\n",
        "    if i.isdigit():\n",
        "      return True\n",
        "  return False\n",
        "\n",
        "def sentences_with_digits_count(sentences):\n",
        "  count = 0\n",
        "  for i in sentences:\n",
        "    if has_digits(i):\n",
        "      count +=1\n",
        "  return count\n",
        "\n",
        "n = int(input())\n",
        "sentences = [input(f\"Введите предложение №{i + 1}: \") for i in range(n)]\n",
        "\n",
        "res = sentences_with_digits_count(sentences)\n",
        "\n",
        "print(res)"
      ],
      "metadata": {
        "colab": {
          "base_uri": "https://localhost:8080/"
        },
        "id": "NNa9XSB48qIV",
        "outputId": "a2d0535c-7a11-4c59-c9d7-9030353f272b"
      },
      "execution_count": null,
      "outputs": [
        {
          "output_type": "stream",
          "name": "stdout",
          "text": [
            "3\n",
            "Введите предложение №1: просто текст\n",
            "Введите предложение №2: текст с 1 цифрой\n",
            "Введите предложение №3: нет цифры\n",
            "1\n"
          ]
        }
      ]
    },
    {
      "cell_type": "code",
      "source": [
        "# Задание task_03_01_08.\n",
        "#\n",
        "# Выполнил: Гостинцева С.Д.\n",
        "# Группа: ЦИБ-241\n",
        "\n",
        "def print_with_border(string, char):\n",
        "\n",
        "    border_char = char[0] if char else '*'\n",
        "    border = border_char * (len(string) + 2)\n",
        "    middle = f\"{border_char}{string}{border_char}\"\n",
        "\n",
        "    print(border)\n",
        "    print(middle)\n",
        "    print(border)\n",
        "\n",
        "\n",
        "def main():\n",
        "\n",
        "    s = input(\"Введите строку: \")\n",
        "    k = input(\"Введите символ: \")\n",
        "\n",
        "\n",
        "    print_with_border(s, k)\n",
        "\n",
        "\n",
        "if __name__ == \"__main__\":\n",
        "    main()"
      ],
      "metadata": {
        "colab": {
          "base_uri": "https://localhost:8080/"
        },
        "id": "8S3tevYJrcJt",
        "outputId": "569d4825-8e78-4912-e1c3-1db08c0b0034"
      },
      "execution_count": null,
      "outputs": [
        {
          "output_type": "stream",
          "name": "stdout",
          "text": [
            "Введите строку: Просто текст\n",
            "Введите символ: +\n",
            "++++++++++++++\n",
            "+Просто текст+\n",
            "++++++++++++++\n"
          ]
        }
      ]
    },
    {
      "cell_type": "code",
      "source": [
        "# Задание task_03_01_09.\n",
        "#\n",
        "# Выполнил: Гостинцева С.Д.\n",
        "# Группа: ЦИБ-241\n",
        "\n",
        "LETTERS_EX = {10: \"A\", 11: \"B\", 12: \"C\", 13: \"D\", 14: \"E\", 15: \"F\"}\n",
        "DIGITS_EX = {\"A\": 10, \"B\": 11, \"C\": 12, \"D\": 13, \"E\": 14, \"F\": 15}\n",
        "\n",
        "\n",
        "def to_base(number, base):\n",
        "    if number == 0:\n",
        "        return \"0\"\n",
        "\n",
        "    result = \"\"\n",
        "\n",
        "    while number > 0:\n",
        "        r = number % base\n",
        "        if r >= 10:\n",
        "          result = LETTER_EX[r] + result\n",
        "        else:\n",
        "          result = str(r) + result\n",
        "        number //= base\n",
        "\n",
        "    return result\n",
        "\n",
        "def from_base(number, base):\n",
        "    number = str(number).upper()\n",
        "    result = 0\n",
        "\n",
        "    for idx, digit in enumerate(reversed(number)):\n",
        "        if digit.isdigit():\n",
        "            value = int(digit)\n",
        "        else:\n",
        "            value = DIGITS_EX[digit]\n",
        "        result += value * (base ** idx)\n",
        "\n",
        "    return result\n",
        "\n",
        "base = int(input())\n",
        "number = int(input())\n",
        "a = from_base(number,base)\n",
        "b = to_base(number,base)\n",
        "\n",
        "print(a)\n",
        "print(b)"
      ],
      "metadata": {
        "colab": {
          "base_uri": "https://localhost:8080/"
        },
        "id": "P4I97hIU9MZU",
        "outputId": "5a88824f-ab7b-4439-8d31-a60e53560235"
      },
      "execution_count": null,
      "outputs": [
        {
          "output_type": "stream",
          "name": "stdout",
          "text": [
            "2\n",
            "10\n",
            "2\n",
            "1010\n"
          ]
        }
      ]
    },
    {
      "cell_type": "code",
      "source": [
        "# Задание task_03_01_10.\n",
        "#\n",
        "# Выполнил: Гостинцева С.Д.\n",
        "# Группа: ЦИБ-241\n",
        "\n",
        "def sentence_stats(sentence):\n",
        "\n",
        "    stats = {}\n",
        "    for char in sentence.lower():\n",
        "        stats[char] = stats.get(char, 0) + 1\n",
        "    return stats\n",
        "\n",
        "\n",
        "def main():\n",
        "\n",
        "    s = input(\"Введите предложение: \")\n",
        "    result = sentence_stats(s)\n",
        "    print(result)\n",
        "\n",
        "\n",
        "if __name__ == \"__main__\":\n",
        "    main()"
      ],
      "metadata": {
        "colab": {
          "base_uri": "https://localhost:8080/"
        },
        "id": "wUZuIdw9sBRD",
        "outputId": "0b9dadfc-f4a0-4c89-efb1-50d7ef4ef99d"
      },
      "execution_count": null,
      "outputs": [
        {
          "output_type": "stream",
          "name": "stdout",
          "text": [
            "Введите предложение: мама МЫла РамУ\n",
            "{'м': 4, 'а': 4, ' ': 2, 'ы': 1, 'л': 1, 'р': 1, 'у': 1}\n"
          ]
        }
      ]
    },
    {
      "cell_type": "code",
      "source": [
        "# Задание task_03_01_11.\n",
        "#\n",
        "# Выполнил: Гостинцева С.Д.\n",
        "# Группа: ЦИБ-241\n",
        "\n",
        "def create_alphabet():\n",
        "    lower_letters = [chr(i) for i in range(ord('а'), ord('я') + 1)]\n",
        "    upper_letters = [chr(i) for i in range(ord('А'), ord('Я') + 1)]\n",
        "    return lower_letters, upper_letters\n",
        "\n",
        "def caesar(text, shift):\n",
        "    lower_letters, upper_letters = create_alphabet()\n",
        "    encrypted_text = []\n",
        "\n",
        "    for i in text:\n",
        "        if i in lower_letters:\n",
        "            new = (lower_letters.index(i) + shift) % len(lower_letters)\n",
        "            encrypted_text.append(lower_letters[new])\n",
        "        elif i in upper_letters:\n",
        "            new = (upper_letters.index(i) + shift) % len(upper_letters)\n",
        "            encrypted_text.append(upper_letters[new])\n",
        "        else:\n",
        "            encrypted_text.append(i)\n",
        "\n",
        "    return ''.join(encrypted_text)\n",
        "\n",
        "def caesar_de(text, shift):\n",
        "    return caesar(caesar(text,shift), -shift)\n",
        "text = str(input())\n",
        "shift = int(input())\n",
        "\n",
        "encoded = caesar (text, shift)\n",
        "decoded = caesar_de (text, shift)\n",
        "print(\"Зашифрованная строка:\", encoded)\n",
        "print(\"Расшифрованная строка:\", decoded)\n"
      ],
      "metadata": {
        "colab": {
          "base_uri": "https://localhost:8080/"
        },
        "id": "7SIgr4Wj9cPZ",
        "outputId": "df671589-277c-46f6-fedc-1b824d6dac80"
      },
      "execution_count": null,
      "outputs": [
        {
          "output_type": "stream",
          "name": "stdout",
          "text": [
            "ПрограММиРОВание С++\n",
            "4\n",
            "Зашифрованная строка: УфтзфдРРмФТЖдсмй Х++\n",
            "Расшифрованная строка: ПрограММиРОВание С++\n"
          ]
        }
      ]
    },
    {
      "cell_type": "code",
      "source": [
        "# Задание task_03_01_12.\n",
        "#\n",
        "# Выполнил: Гостинцева С.Д.\n",
        "# Группа: ЦИБ-241\n",
        "\n",
        "data = [\n",
        "    {1: 'м', 2: 'м', 3: 'м', 4: 'ж'},\n",
        "    {1: 'ж', 2: 'м', 3: 'ж', 4: 'ж'},\n",
        "    {1: 'ж', 2: 'ж', 3: 'ж', 4: 'ж'},\n",
        "    {1: 'м', 2: 'м', 3: 'м', 4: 'м'},\n",
        "    {1: None, 2: None, 3: None, 4: None},\n",
        "    {1: 'м', 2: None, 3: None, 4: 'ж'},\n",
        "    {1: None, 2: None, 3: None, 4: None},\n",
        "    {1: 'м', 2: 'м', 3: None, 4: 'м'},\n",
        "    {1: 'ж', 2: None, 3: None, 4: 'ж'}\n",
        "]\n",
        "\n",
        "def vacant_compartments(data):\n",
        "\n",
        "    return [\n",
        "        i + 1 for i, compartment in enumerate(data)\n",
        "        if all(v is None for v in compartment.values())\n",
        "    ]\n",
        "\n",
        "def vacant_seats(data, compartments_condition=None, seat_condition=None):\n",
        "\n",
        "    result = []\n",
        "    for comp_num, compartment in enumerate(data, 1):\n",
        "\n",
        "        if compartments_condition and not compartments_condition(compartment):\n",
        "            continue\n",
        "\n",
        "        for seat, value in compartment.items():\n",
        "            if value is None:\n",
        "                if seat_condition is None or seat_condition(seat, value):\n",
        "                    result.append((comp_num, seat))\n",
        "    return result\n",
        "\n",
        "def is_same_sex_and_vacant(compartment, sex):\n",
        "\n",
        "    occupied = [v for v in compartment.values() if v is not None]\n",
        "    has_vacant = any(v is None for v in compartment.values())\n",
        "    return len(occupied) > 0 and all(g == sex for g in occupied) and has_vacant\n",
        "\n",
        "# Результаты\n",
        "print(\"Список полностью свободных купе:\", vacant_compartments(data))\n",
        "print(\"Свободные места:\", vacant_seats(data))\n",
        "print(\"Свободные нижние места:\", vacant_seats(data, seat_condition=lambda s, _: s % 2 == 1))\n",
        "print(\"Свободные верхние места:\", vacant_seats(data, seat_condition=lambda s, _: s % 2 == 0))\n",
        "print(\"Свободные места в мужских купе:\", vacant_seats(data, lambda c: is_same_sex_and_vacant(c, \"м\")))\n",
        "print(\"Свободные места в женских купе:\", vacant_seats(data, lambda c: is_same_sex_and_vacant(c, \"ж\")))"
      ],
      "metadata": {
        "colab": {
          "base_uri": "https://localhost:8080/"
        },
        "id": "cwlO-f7Ewae2",
        "outputId": "3c94aac0-a8af-41f3-e405-1ebcf08786ca"
      },
      "execution_count": null,
      "outputs": [
        {
          "output_type": "stream",
          "name": "stdout",
          "text": [
            "Список полностью свободных купе: [5, 7]\n",
            "Свободные места: [(5, 1), (5, 2), (5, 3), (5, 4), (6, 2), (6, 3), (7, 1), (7, 2), (7, 3), (7, 4), (8, 3), (9, 2), (9, 3)]\n",
            "Свободные нижние места: [(5, 1), (5, 3), (6, 3), (7, 1), (7, 3), (8, 3), (9, 3)]\n",
            "Свободные верхние места: [(5, 2), (5, 4), (6, 2), (7, 2), (7, 4), (9, 2)]\n",
            "Свободные места в мужских купе: [(8, 3)]\n",
            "Свободные места в женских купе: [(9, 2), (9, 3)]\n"
          ]
        }
      ]
    },
    {
      "cell_type": "code",
      "source": [
        "# Задание task_03_01_13.\n",
        "#\n",
        "# Выполнил: Гостинцева С.Д.\n",
        "# Группа: ЦИБ-241\n",
        "\n",
        "votes = [\n",
        "    2, 3, -1, 2, 5, 1, 1, 4, 1, 1, 1, 3, 1, 3, 5, -1, 5, 2, 5, 5,\n",
        "    3, 3, 2, 3, 3, 2, 2, 1, 3, 2, 5, 2, 2, 4, 1, 1, 3, 2, 2, 3, 3,\n",
        "    3, 1, 4, 2, 1, 4, 2, 3, 3, 3, -1, 5, 3, 1, 4, 5, 1, 1, 3, 3,\n",
        "    3, -1, 5, 3, 3, 2, 5, 1, 1, 5, -1, 1, 2, 2, 3, -1, 4, 2, 5, 4,\n",
        "    2, -1, 3, 1, 4, 3, 5, 4, 1, 5, 3, 2, 4, 2, 1, 3, 4, 1, 1, 3, 4\n",
        "]\n",
        "\n",
        "parties = {\n",
        "    1: \"Партия №1\", 2: \"Партия №2\", 3: \"Партия №3\",\n",
        "    4: \"Партия №4\", 5: \"Партия №5\", -1: \"Испорчено\"\n",
        "}\n",
        "\n",
        "\n",
        "def parties_votes(votes):\n",
        "    vote_count = {i: 0 for i in range(1, 6)}\n",
        "    total_votes = 0\n",
        "\n",
        "    for vote in votes:\n",
        "        if vote in vote_count:\n",
        "            vote_count[vote] += 1\n",
        "            total_votes += 1\n",
        "        elif vote == -1:\n",
        "            continue\n",
        "\n",
        "    results = []\n",
        "    for party, count in vote_count.items():\n",
        "        if total_votes > 0:\n",
        "            percentage = (count / total_votes) * 100\n",
        "        else:\n",
        "            percentage = 0\n",
        "        results.append((party, count, percentage))\n",
        "\n",
        "    results.sort(key=lambda x: x[1], reverse=True)\n",
        "\n",
        "    for party, count, percentage in results:\n",
        "        print(f\"Партия Nº{party} | {count} | {percentage:.2f}%\")\n",
        "\n",
        "parties_votes(votes)"
      ],
      "metadata": {
        "colab": {
          "base_uri": "https://localhost:8080/"
        },
        "id": "3UOpk5IB9v7u",
        "outputId": "fc6674d6-a383-486f-95af-b072dfef1ebb"
      },
      "execution_count": null,
      "outputs": [
        {
          "output_type": "stream",
          "name": "stdout",
          "text": [
            "Партия Nº3 | 27 | 28.42%\n",
            "Партия Nº1 | 22 | 23.16%\n",
            "Партия Nº2 | 20 | 21.05%\n",
            "Партия Nº5 | 14 | 14.74%\n",
            "Партия Nº4 | 12 | 12.63%\n"
          ]
        }
      ]
    },
    {
      "cell_type": "code",
      "source": [
        "# Задание task_03_01_14.\n",
        "#\n",
        "# Выполнил: Гостинцева С.Д.\n",
        "# Группа: ЦИБ-241\n",
        "\n",
        "def split_numbers(*args):\n",
        "\n",
        "    negatives = sorted((num for num in args if num < 0), reverse=True)\n",
        "    non_negatives = sorted((num for num in args if num >= 0))\n",
        "    return (negatives, non_negatives)\n",
        "\n",
        "\n",
        "print(split_numbers(1, 4, -5, 0, -33))\n"
      ],
      "metadata": {
        "colab": {
          "base_uri": "https://localhost:8080/"
        },
        "id": "Ra5t7qPHyqqw",
        "outputId": "84493ff0-1086-40f6-e2ad-482159f95c69"
      },
      "execution_count": null,
      "outputs": [
        {
          "output_type": "stream",
          "name": "stdout",
          "text": [
            "([-5, -33], [0, 1, 4])\n"
          ]
        }
      ]
    },
    {
      "cell_type": "code",
      "source": [
        "# Задание task_03_01_15.\n",
        "#\n",
        "# Выполнил: Гостинцева С.Д.\n",
        "# Группа: ЦИБ-241\n",
        "\n",
        "values = []\n",
        "keys = ['c', 'i', 'g', 'ex', 'im']\n",
        "data_dict = {}\n",
        "\n",
        "for a in keys:\n",
        "  value = int(input(f\"значение для {a}: \"))\n",
        "  values.append(value)\n",
        "  data_dict[a] = value\n",
        "\n",
        "def gdp(c, i, g, ex, im):\n",
        "  return c + i + g + ex - im\n",
        "\n",
        "c, i, g, ex, im = values\n",
        "\n",
        "gdp = gdp(**data_dict)\n",
        "\n",
        "print(gdp)"
      ],
      "metadata": {
        "colab": {
          "base_uri": "https://localhost:8080/"
        },
        "id": "swydRqV096E0",
        "outputId": "13563567-32be-4913-c50b-908f5b5d1473"
      },
      "execution_count": null,
      "outputs": [
        {
          "output_type": "stream",
          "name": "stdout",
          "text": [
            "значение для c: 100\n",
            "значение для i: 200\n",
            "значение для g: 300\n",
            "значение для ex: 400\n",
            "значение для im: 500\n",
            "500\n"
          ]
        }
      ]
    },
    {
      "cell_type": "code",
      "source": [
        "# Задание task_03_01_16.\n",
        "#\n",
        "# Выполнил: Гостинцева С.Д.\n",
        "# Группа: ЦИБ-241\n",
        "\n",
        "def pow1(value, power):\n",
        "\n",
        "    result = 1\n",
        "    for _ in range(power):\n",
        "        result *= value\n",
        "    return result\n",
        "\n",
        "\n",
        "def pow2(value, power):\n",
        "\n",
        "    if power == 0:\n",
        "        return 1\n",
        "    return value * pow2(value, power - 1)\n",
        "\n",
        "\n",
        "print(pow1(5, 3))\n",
        "print(pow2(5, 3))\n",
        "\n"
      ],
      "metadata": {
        "colab": {
          "base_uri": "https://localhost:8080/"
        },
        "id": "YtmbJ2I5zgxZ",
        "outputId": "48ec7168-3e7a-4ea5-f8f3-0604c21b338a"
      },
      "execution_count": null,
      "outputs": [
        {
          "output_type": "stream",
          "name": "stdout",
          "text": [
            "125\n",
            "125\n"
          ]
        }
      ]
    },
    {
      "cell_type": "code",
      "source": [
        "# Задание task_03_01_17.\n",
        "#\n",
        "# Выполнил: Гостинцева С.Д.\n",
        "# Группа: ЦИБ-241\n",
        "\n",
        "def digits_sum(value):\n",
        "    if value == 0:\n",
        "        return 0\n",
        "    else:\n",
        "        return value % 10 + digits_sum(value // 10)\n",
        "\n",
        "def digits_count(value):\n",
        "    if value == 0:\n",
        "        return 0\n",
        "    else:\n",
        "        return 1 + digits_count(value // 10)\n",
        "\n",
        "print(digits_sum(12345))\n",
        "print(digits_count(12345))"
      ],
      "metadata": {
        "colab": {
          "base_uri": "https://localhost:8080/"
        },
        "id": "WHwoWelD-RQ0",
        "outputId": "0b1adfdf-bb32-437c-f356-16aed4daa88c"
      },
      "execution_count": null,
      "outputs": [
        {
          "output_type": "stream",
          "name": "stdout",
          "text": [
            "15\n",
            "5\n"
          ]
        }
      ]
    }
  ]
}